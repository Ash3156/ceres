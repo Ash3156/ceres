{
 "cells": [
  {
   "cell_type": "code",
   "execution_count": 12,
   "metadata": {},
   "outputs": [],
   "source": [
    "from urllib.request import urlretrieve\n",
    "import os\n",
    "import csv"
   ]
  },
  {
   "cell_type": "code",
   "execution_count": 37,
   "metadata": {},
   "outputs": [],
   "source": [
    "def download_images(url_dict):\n",
    "    for key in url_dict.keys():\n",
    "        fullfilename = os.path.join(\"./static/images/\", key+\".jpg\")\n",
    "        urlretrieve(url_dict[key]['Image URL'], fullfilename)"
   ]
  },
  {
   "cell_type": "code",
   "execution_count": 38,
   "metadata": {},
   "outputs": [],
   "source": [
    "def create_dict(filename):\n",
    "    plant_disease_dict = dict()\n",
    "    with open(filename, encoding=\"utf8\") as csv_file:\n",
    "        csv_reader = csv.reader(csv_file, delimiter=',')\n",
    "        line_count=0\n",
    "        for row in csv_reader:\n",
    "            if line_count==0:\n",
    "                categories = row[1:]\n",
    "                line_count+=1\n",
    "            else:\n",
    "                plant_disease_dict[row[0]]=dict()\n",
    "                for i in range(len(categories)):\n",
    "                    plant_disease_dict[row[0]][categories[i]]=row[i+1]\n",
    "    return plant_disease_dict"
   ]
  },
  {
   "cell_type": "code",
   "execution_count": 36,
   "metadata": {},
   "outputs": [],
   "source": []
  },
  {
   "cell_type": "code",
   "execution_count": 39,
   "metadata": {},
   "outputs": [
    {
     "data": {
      "text/plain": [
       "['Day', 'Time', 'Time2', 'Instructor', 'Course Title']"
      ]
     },
     "execution_count": 39,
     "metadata": {},
     "output_type": "execute_result"
    }
   ],
   "source": []
  },
  {
   "cell_type": "code",
   "execution_count": null,
   "metadata": {},
   "outputs": [],
   "source": []
  }
 ],
 "metadata": {
  "kernelspec": {
   "display_name": "Python 3",
   "language": "python",
   "name": "python3"
  },
  "language_info": {
   "codemirror_mode": {
    "name": "ipython",
    "version": 3
   },
   "file_extension": ".py",
   "mimetype": "text/x-python",
   "name": "python",
   "nbconvert_exporter": "python",
   "pygments_lexer": "ipython3",
   "version": "3.8.3"
  }
 },
 "nbformat": 4,
 "nbformat_minor": 4
}
